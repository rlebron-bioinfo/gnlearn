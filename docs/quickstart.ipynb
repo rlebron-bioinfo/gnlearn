{
 "cells": [
  {
   "cell_type": "code",
   "execution_count": 1,
   "metadata": {},
   "outputs": [
    {
     "name": "stderr",
     "output_type": "stream",
     "text": [
      "Loading required package: parallel\n",
      "\n",
      "Loading required package: foreach\n",
      "\n",
      "Loading required package: doParallel\n",
      "\n",
      "Loading required package: iterators\n",
      "\n"
     ]
    }
   ],
   "source": [
    "library(gnlearn)"
   ]
  },
  {
   "cell_type": "code",
   "execution_count": 2,
   "metadata": {},
   "outputs": [
    {
     "data": {
      "text/html": [
       "<table>\n",
       "<caption>A data.frame: 4 × 11</caption>\n",
       "<thead>\n",
       "\t<tr><th></th><th scope=col>download.code</th><th scope=col>sp.scientific</th><th scope=col>sp.common</th><th scope=col>bio.layer</th><th scope=col>seq.protocol</th><th scope=col>cell.identity</th><th scope=col>n.genes</th><th scope=col>n.cells</th><th scope=col>ref.authors</th><th scope=col>ref.doi</th><th scope=col>raw.dataset</th></tr>\n",
       "\t<tr><th></th><th scope=col>&lt;int&gt;</th><th scope=col>&lt;chr&gt;</th><th scope=col>&lt;chr&gt;</th><th scope=col>&lt;chr&gt;</th><th scope=col>&lt;chr&gt;</th><th scope=col>&lt;chr&gt;</th><th scope=col>&lt;int&gt;</th><th scope=col>&lt;int&gt;</th><th scope=col>&lt;chr&gt;</th><th scope=col>&lt;chr&gt;</th><th scope=col>&lt;chr&gt;</th></tr>\n",
       "</thead>\n",
       "<tbody>\n",
       "\t<tr><th scope=row>1</th><td>1</td><td>Homo sapiens</td><td>Human</td><td>Transcription</td><td>10x Chromium</td><td>Breast Cancer Cell Line (MCF7)</td><td>544</td><td>4367</td><td>Ben-David et al. 2018</td><td>10.1038/s41586-018-0409-3</td><td>https://github.com/rlebron-bioinfo/gnlearn-datasets/raw/master/Homo_sapiens/Transcription/Ben-David2018/breast_cancer_MCF7_rep1.tsv.gz</td></tr>\n",
       "\t<tr><th scope=row>2</th><td>2</td><td>Homo sapiens</td><td>Human</td><td>Transcription</td><td>10x Chromium</td><td>Breast Cancer Cell Line (MCF7)</td><td>552</td><td>4806</td><td>Ben-David et al. 2018</td><td>10.1038/s41586-018-0409-3</td><td>https://github.com/rlebron-bioinfo/gnlearn-datasets/raw/master/Homo_sapiens/Transcription/Ben-David2018/breast_cancer_MCF7_rep2.tsv.gz</td></tr>\n",
       "\t<tr><th scope=row>3</th><td>3</td><td>Homo sapiens</td><td>Human</td><td>Transcription</td><td>10x Chromium</td><td>Breast Cancer Cell Line (MCF7)</td><td>531</td><td>7372</td><td>Ben-David et al. 2018</td><td>10.1038/s41586-018-0409-3</td><td>https://github.com/rlebron-bioinfo/gnlearn-datasets/raw/master/Homo_sapiens/Transcription/Ben-David2018/breast_cancer_MCF7_rep3.tsv.gz</td></tr>\n",
       "\t<tr><th scope=row>4</th><td>4</td><td>Homo sapiens</td><td>Human</td><td>Transcription</td><td>10x Chromium</td><td>Breast Cancer Cell Line (MCF7)</td><td>527</td><td>5600</td><td>Ben-David et al. 2018</td><td>10.1038/s41586-018-0409-3</td><td>https://github.com/rlebron-bioinfo/gnlearn-datasets/raw/master/Homo_sapiens/Transcription/Ben-David2018/breast_cancer_MCF7_rep4.tsv.gz</td></tr>\n",
       "</tbody>\n",
       "</table>\n"
      ],
      "text/latex": [
       "A data.frame: 4 × 11\n",
       "\\begin{tabular}{r|lllllllllll}\n",
       "  & download.code & sp.scientific & sp.common & bio.layer & seq.protocol & cell.identity & n.genes & n.cells & ref.authors & ref.doi & raw.dataset\\\\\n",
       "  & <int> & <chr> & <chr> & <chr> & <chr> & <chr> & <int> & <int> & <chr> & <chr> & <chr>\\\\\n",
       "\\hline\n",
       "\t1 & 1 & Homo sapiens & Human & Transcription & 10x Chromium & Breast Cancer Cell Line (MCF7) & 544 & 4367 & Ben-David et al. 2018 & 10.1038/s41586-018-0409-3 & https://github.com/rlebron-bioinfo/gnlearn-datasets/raw/master/Homo\\_sapiens/Transcription/Ben-David2018/breast\\_cancer\\_MCF7\\_rep1.tsv.gz\\\\\n",
       "\t2 & 2 & Homo sapiens & Human & Transcription & 10x Chromium & Breast Cancer Cell Line (MCF7) & 552 & 4806 & Ben-David et al. 2018 & 10.1038/s41586-018-0409-3 & https://github.com/rlebron-bioinfo/gnlearn-datasets/raw/master/Homo\\_sapiens/Transcription/Ben-David2018/breast\\_cancer\\_MCF7\\_rep2.tsv.gz\\\\\n",
       "\t3 & 3 & Homo sapiens & Human & Transcription & 10x Chromium & Breast Cancer Cell Line (MCF7) & 531 & 7372 & Ben-David et al. 2018 & 10.1038/s41586-018-0409-3 & https://github.com/rlebron-bioinfo/gnlearn-datasets/raw/master/Homo\\_sapiens/Transcription/Ben-David2018/breast\\_cancer\\_MCF7\\_rep3.tsv.gz\\\\\n",
       "\t4 & 4 & Homo sapiens & Human & Transcription & 10x Chromium & Breast Cancer Cell Line (MCF7) & 527 & 5600 & Ben-David et al. 2018 & 10.1038/s41586-018-0409-3 & https://github.com/rlebron-bioinfo/gnlearn-datasets/raw/master/Homo\\_sapiens/Transcription/Ben-David2018/breast\\_cancer\\_MCF7\\_rep4.tsv.gz\\\\\n",
       "\\end{tabular}\n"
      ],
      "text/markdown": [
       "\n",
       "A data.frame: 4 × 11\n",
       "\n",
       "| <!--/--> | download.code &lt;int&gt; | sp.scientific &lt;chr&gt; | sp.common &lt;chr&gt; | bio.layer &lt;chr&gt; | seq.protocol &lt;chr&gt; | cell.identity &lt;chr&gt; | n.genes &lt;int&gt; | n.cells &lt;int&gt; | ref.authors &lt;chr&gt; | ref.doi &lt;chr&gt; | raw.dataset &lt;chr&gt; |\n",
       "|---|---|---|---|---|---|---|---|---|---|---|---|\n",
       "| 1 | 1 | Homo sapiens | Human | Transcription | 10x Chromium | Breast Cancer Cell Line (MCF7) | 544 | 4367 | Ben-David et al. 2018 | 10.1038/s41586-018-0409-3 | https://github.com/rlebron-bioinfo/gnlearn-datasets/raw/master/Homo_sapiens/Transcription/Ben-David2018/breast_cancer_MCF7_rep1.tsv.gz |\n",
       "| 2 | 2 | Homo sapiens | Human | Transcription | 10x Chromium | Breast Cancer Cell Line (MCF7) | 552 | 4806 | Ben-David et al. 2018 | 10.1038/s41586-018-0409-3 | https://github.com/rlebron-bioinfo/gnlearn-datasets/raw/master/Homo_sapiens/Transcription/Ben-David2018/breast_cancer_MCF7_rep2.tsv.gz |\n",
       "| 3 | 3 | Homo sapiens | Human | Transcription | 10x Chromium | Breast Cancer Cell Line (MCF7) | 531 | 7372 | Ben-David et al. 2018 | 10.1038/s41586-018-0409-3 | https://github.com/rlebron-bioinfo/gnlearn-datasets/raw/master/Homo_sapiens/Transcription/Ben-David2018/breast_cancer_MCF7_rep3.tsv.gz |\n",
       "| 4 | 4 | Homo sapiens | Human | Transcription | 10x Chromium | Breast Cancer Cell Line (MCF7) | 527 | 5600 | Ben-David et al. 2018 | 10.1038/s41586-018-0409-3 | https://github.com/rlebron-bioinfo/gnlearn-datasets/raw/master/Homo_sapiens/Transcription/Ben-David2018/breast_cancer_MCF7_rep4.tsv.gz |\n",
       "\n"
      ],
      "text/plain": [
       "  download.code sp.scientific sp.common bio.layer     seq.protocol\n",
       "1 1             Homo sapiens  Human     Transcription 10x Chromium\n",
       "2 2             Homo sapiens  Human     Transcription 10x Chromium\n",
       "3 3             Homo sapiens  Human     Transcription 10x Chromium\n",
       "4 4             Homo sapiens  Human     Transcription 10x Chromium\n",
       "  cell.identity                  n.genes n.cells ref.authors          \n",
       "1 Breast Cancer Cell Line (MCF7) 544     4367    Ben-David et al. 2018\n",
       "2 Breast Cancer Cell Line (MCF7) 552     4806    Ben-David et al. 2018\n",
       "3 Breast Cancer Cell Line (MCF7) 531     7372    Ben-David et al. 2018\n",
       "4 Breast Cancer Cell Line (MCF7) 527     5600    Ben-David et al. 2018\n",
       "  ref.doi                  \n",
       "1 10.1038/s41586-018-0409-3\n",
       "2 10.1038/s41586-018-0409-3\n",
       "3 10.1038/s41586-018-0409-3\n",
       "4 10.1038/s41586-018-0409-3\n",
       "  raw.dataset                                                                                                                           \n",
       "1 https://github.com/rlebron-bioinfo/gnlearn-datasets/raw/master/Homo_sapiens/Transcription/Ben-David2018/breast_cancer_MCF7_rep1.tsv.gz\n",
       "2 https://github.com/rlebron-bioinfo/gnlearn-datasets/raw/master/Homo_sapiens/Transcription/Ben-David2018/breast_cancer_MCF7_rep2.tsv.gz\n",
       "3 https://github.com/rlebron-bioinfo/gnlearn-datasets/raw/master/Homo_sapiens/Transcription/Ben-David2018/breast_cancer_MCF7_rep3.tsv.gz\n",
       "4 https://github.com/rlebron-bioinfo/gnlearn-datasets/raw/master/Homo_sapiens/Transcription/Ben-David2018/breast_cancer_MCF7_rep4.tsv.gz"
      ]
     },
     "metadata": {},
     "output_type": "display_data"
    }
   ],
   "source": [
    "list.datasets(sp.common='human', cell.identity='breast cancer')"
   ]
  },
  {
   "cell_type": "code",
   "execution_count": 3,
   "metadata": {},
   "outputs": [],
   "source": [
    "bc.1 <- download.dataset(1)\n",
    "bc.2 <- download.dataset(2)\n",
    "bc.3 <- download.dataset(3)\n",
    "bc.4 <- download.dataset(4)"
   ]
  },
  {
   "cell_type": "code",
   "execution_count": 4,
   "metadata": {},
   "outputs": [
    {
     "data": {
      "text/html": [
       "<style>\n",
       ".list-inline {list-style: none; margin:0; padding: 0}\n",
       ".list-inline>li {display: inline-block}\n",
       ".list-inline>li:not(:last-child)::after {content: \"\\00b7\"; padding: 0 .5ex}\n",
       "</style>\n",
       "<ol class=list-inline><li>4367</li><li>544</li></ol>\n"
      ],
      "text/latex": [
       "\\begin{enumerate*}\n",
       "\\item 4367\n",
       "\\item 544\n",
       "\\end{enumerate*}\n"
      ],
      "text/markdown": [
       "1. 4367\n",
       "2. 544\n",
       "\n",
       "\n"
      ],
      "text/plain": [
       "[1] 4367  544"
      ]
     },
     "metadata": {},
     "output_type": "display_data"
    },
    {
     "data": {
      "text/html": [
       "<style>\n",
       ".list-inline {list-style: none; margin:0; padding: 0}\n",
       ".list-inline>li {display: inline-block}\n",
       ".list-inline>li:not(:last-child)::after {content: \"\\00b7\"; padding: 0 .5ex}\n",
       "</style>\n",
       "<ol class=list-inline><li>4806</li><li>552</li></ol>\n"
      ],
      "text/latex": [
       "\\begin{enumerate*}\n",
       "\\item 4806\n",
       "\\item 552\n",
       "\\end{enumerate*}\n"
      ],
      "text/markdown": [
       "1. 4806\n",
       "2. 552\n",
       "\n",
       "\n"
      ],
      "text/plain": [
       "[1] 4806  552"
      ]
     },
     "metadata": {},
     "output_type": "display_data"
    },
    {
     "data": {
      "text/html": [
       "<style>\n",
       ".list-inline {list-style: none; margin:0; padding: 0}\n",
       ".list-inline>li {display: inline-block}\n",
       ".list-inline>li:not(:last-child)::after {content: \"\\00b7\"; padding: 0 .5ex}\n",
       "</style>\n",
       "<ol class=list-inline><li>7372</li><li>531</li></ol>\n"
      ],
      "text/latex": [
       "\\begin{enumerate*}\n",
       "\\item 7372\n",
       "\\item 531\n",
       "\\end{enumerate*}\n"
      ],
      "text/markdown": [
       "1. 7372\n",
       "2. 531\n",
       "\n",
       "\n"
      ],
      "text/plain": [
       "[1] 7372  531"
      ]
     },
     "metadata": {},
     "output_type": "display_data"
    },
    {
     "data": {
      "text/html": [
       "<style>\n",
       ".list-inline {list-style: none; margin:0; padding: 0}\n",
       ".list-inline>li {display: inline-block}\n",
       ".list-inline>li:not(:last-child)::after {content: \"\\00b7\"; padding: 0 .5ex}\n",
       "</style>\n",
       "<ol class=list-inline><li>5600</li><li>527</li></ol>\n"
      ],
      "text/latex": [
       "\\begin{enumerate*}\n",
       "\\item 5600\n",
       "\\item 527\n",
       "\\end{enumerate*}\n"
      ],
      "text/markdown": [
       "1. 5600\n",
       "2. 527\n",
       "\n",
       "\n"
      ],
      "text/plain": [
       "[1] 5600  527"
      ]
     },
     "metadata": {},
     "output_type": "display_data"
    }
   ],
   "source": [
    "dim(bc.1)\n",
    "dim(bc.2)\n",
    "dim(bc.3)\n",
    "dim(bc.4)"
   ]
  },
  {
   "cell_type": "code",
   "execution_count": 5,
   "metadata": {},
   "outputs": [],
   "source": [
    "bc.1 <- filter.dataset(bc.1, max.genes=Inf, max.cells=Inf, min.non.zeros=10, cor=TRUE, cor.threshold=0.25)\n",
    "bc.2 <- filter.dataset(bc.2, max.genes=Inf, max.cells=Inf, min.non.zeros=10, cor=TRUE, cor.threshold=0.25)\n",
    "bc.3 <- filter.dataset(bc.3, max.genes=Inf, max.cells=Inf, min.non.zeros=10, cor=TRUE, cor.threshold=0.25)\n",
    "bc.4 <- filter.dataset(bc.4, max.genes=Inf, max.cells=Inf, min.non.zeros=10, cor=TRUE, cor.threshold=0.25)"
   ]
  },
  {
   "cell_type": "code",
   "execution_count": 6,
   "metadata": {},
   "outputs": [
    {
     "data": {
      "text/html": [
       "<style>\n",
       ".list-inline {list-style: none; margin:0; padding: 0}\n",
       ".list-inline>li {display: inline-block}\n",
       ".list-inline>li:not(:last-child)::after {content: \"\\00b7\"; padding: 0 .5ex}\n",
       "</style>\n",
       "<ol class=list-inline><li>4363</li><li>160</li></ol>\n"
      ],
      "text/latex": [
       "\\begin{enumerate*}\n",
       "\\item 4363\n",
       "\\item 160\n",
       "\\end{enumerate*}\n"
      ],
      "text/markdown": [
       "1. 4363\n",
       "2. 160\n",
       "\n",
       "\n"
      ],
      "text/plain": [
       "[1] 4363  160"
      ]
     },
     "metadata": {},
     "output_type": "display_data"
    },
    {
     "data": {
      "text/html": [
       "<style>\n",
       ".list-inline {list-style: none; margin:0; padding: 0}\n",
       ".list-inline>li {display: inline-block}\n",
       ".list-inline>li:not(:last-child)::after {content: \"\\00b7\"; padding: 0 .5ex}\n",
       "</style>\n",
       "<ol class=list-inline><li>4804</li><li>184</li></ol>\n"
      ],
      "text/latex": [
       "\\begin{enumerate*}\n",
       "\\item 4804\n",
       "\\item 184\n",
       "\\end{enumerate*}\n"
      ],
      "text/markdown": [
       "1. 4804\n",
       "2. 184\n",
       "\n",
       "\n"
      ],
      "text/plain": [
       "[1] 4804  184"
      ]
     },
     "metadata": {},
     "output_type": "display_data"
    },
    {
     "data": {
      "text/html": [
       "<style>\n",
       ".list-inline {list-style: none; margin:0; padding: 0}\n",
       ".list-inline>li {display: inline-block}\n",
       ".list-inline>li:not(:last-child)::after {content: \"\\00b7\"; padding: 0 .5ex}\n",
       "</style>\n",
       "<ol class=list-inline><li>7365</li><li>122</li></ol>\n"
      ],
      "text/latex": [
       "\\begin{enumerate*}\n",
       "\\item 7365\n",
       "\\item 122\n",
       "\\end{enumerate*}\n"
      ],
      "text/markdown": [
       "1. 7365\n",
       "2. 122\n",
       "\n",
       "\n"
      ],
      "text/plain": [
       "[1] 7365  122"
      ]
     },
     "metadata": {},
     "output_type": "display_data"
    },
    {
     "data": {
      "text/html": [
       "<style>\n",
       ".list-inline {list-style: none; margin:0; padding: 0}\n",
       ".list-inline>li {display: inline-block}\n",
       ".list-inline>li:not(:last-child)::after {content: \"\\00b7\"; padding: 0 .5ex}\n",
       "</style>\n",
       "<ol class=list-inline><li>5596</li><li>141</li></ol>\n"
      ],
      "text/latex": [
       "\\begin{enumerate*}\n",
       "\\item 5596\n",
       "\\item 141\n",
       "\\end{enumerate*}\n"
      ],
      "text/markdown": [
       "1. 5596\n",
       "2. 141\n",
       "\n",
       "\n"
      ],
      "text/plain": [
       "[1] 5596  141"
      ]
     },
     "metadata": {},
     "output_type": "display_data"
    }
   ],
   "source": [
    "dim(bc.1)\n",
    "dim(bc.2)\n",
    "dim(bc.3)\n",
    "dim(bc.4)"
   ]
  },
  {
   "cell_type": "code",
   "execution_count": null,
   "metadata": {},
   "outputs": [],
   "source": [
    "graph.bc1 <- boot.nodag(bc.1, R=200, threshold=0.9, cluster=4)\n",
    "graph.bc2 <- boot.nodag(bc.2, R=200, threshold=0.9, cluster=4)\n",
    "graph.bc3 <- boot.nodag(bc.3, R=200, threshold=0.9, cluster=4)\n",
    "graph.bc4 <- boot.nodag(bc.4, R=200, threshold=0.9, cluster=4)"
   ]
  },
  {
   "cell_type": "code",
   "execution_count": null,
   "metadata": {},
   "outputs": [],
   "source": []
  },
  {
   "cell_type": "code",
   "execution_count": null,
   "metadata": {},
   "outputs": [],
   "source": []
  }
 ],
 "metadata": {
  "kernelspec": {
   "display_name": "R",
   "language": "R",
   "name": "ir"
  },
  "language_info": {
   "codemirror_mode": "r",
   "file_extension": ".r",
   "mimetype": "text/x-r-source",
   "name": "R",
   "pygments_lexer": "r",
   "version": "4.0.0"
  }
 },
 "nbformat": 4,
 "nbformat_minor": 4
}
